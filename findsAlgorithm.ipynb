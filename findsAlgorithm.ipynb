{
 "cells": [
  {
   "cell_type": "code",
   "execution_count": 1,
   "metadata": {},
   "outputs": [],
   "source": [
    "import csv"
   ]
  },
  {
   "cell_type": "code",
   "execution_count": 2,
   "metadata": {},
   "outputs": [
    {
     "name": "stdout",
     "output_type": "stream",
     "text": [
      "['Sunny', 'Warm', 'Normal', 'Strong', 'Warm', 'Same', 'Yes']\n",
      "['Sunny', 'Warm', 'High', 'Strong', 'Warm', 'Same', 'Yes']\n",
      "['Rainy', 'Cold', 'High', 'Strong', 'Warm', 'Change', 'No']\n",
      "['Sunny', 'Warm', 'High', 'Strong', 'Cool', 'Change', 'Yes']\n"
     ]
    }
   ],
   "source": [
    "a=[]\n",
    "with open('enjoySport.csv') as csfile:\n",
    "    reader = csv.reader(csfile)\n",
    "    for row in reader:\n",
    "        a.append(row)\n",
    "        print(row)\n",
    "num_attributes=len(a[0])-1"
   ]
  },
  {
   "cell_type": "code",
   "execution_count": 3,
   "metadata": {},
   "outputs": [
    {
     "name": "stdout",
     "output_type": "stream",
     "text": [
      "The most generic hypothesis is represented by:  ['?', '?', '?', '?', '?', '?']\n",
      "The most specific hypothesis is represented by:  ['0', '0', '0', '0', '0', '0']\n"
     ]
    }
   ],
   "source": [
    "generic_hypothesis = [\"?\"]*num_attributes\n",
    "specific_hypothesis=[\"0\"]*num_attributes\n",
    "print(\"The most generic hypothesis is represented by: \", generic_hypothesis)\n",
    "print(\"The most specific hypothesis is represented by: \", specific_hypothesis)"
   ]
  },
  {
   "cell_type": "code",
   "execution_count": 5,
   "metadata": {},
   "outputs": [
    {
     "name": "stdout",
     "output_type": "stream",
     "text": [
      "Find -s: Finding maximally specific hypothesis\n",
      "The training example no: 1 the hypothesis is ['Sunny', 'Warm', 'Normal', 'Strong', 'Warm', 'Same']\n",
      "The training example no: 2 the hypothesis is ['Sunny', 'Warm', '?', 'Strong', 'Warm', 'Same']\n",
      "The training example no: 3 the hypothesis is ['Sunny', 'Warm', '?', 'Strong', 'Warm', 'Same']\n",
      "The training example no: 4 the hypothesis is ['Sunny', 'Warm', '?', 'Strong', '?', '?']\n",
      "The maximally specific hypothesis is :\n",
      "['Sunny', 'Warm', '?', 'Strong', '?', '?']\n"
     ]
    }
   ],
   "source": [
    "hypothesis = specific_hypothesis\n",
    "print(\"Find -s: Finding maximally specific hypothesis\")\n",
    "hypothesis = a[0][:-1]\n",
    "for i in range(len(a)):\n",
    "    if a[i][num_attributes] == \"Yes\":\n",
    "        for j in range(num_attributes):\n",
    "            if a[i][j]!=hypothesis[j]:\n",
    "                hypothesis[j]=\"?\"\n",
    "    print(\"The training example no:\",+i+1,\"the hypothesis is\",hypothesis)\n",
    "print(\"The maximally specific hypothesis is :\")\n",
    "print(hypothesis)"
   ]
  },
  {
   "cell_type": "code",
   "execution_count": null,
   "metadata": {},
   "outputs": [],
   "source": []
  }
 ],
 "metadata": {
  "kernelspec": {
   "display_name": "Python 3",
   "language": "python",
   "name": "python3"
  },
  "language_info": {
   "codemirror_mode": {
    "name": "ipython",
    "version": 3
   },
   "file_extension": ".py",
   "mimetype": "text/x-python",
   "name": "python",
   "nbconvert_exporter": "python",
   "pygments_lexer": "ipython3",
   "version": "3.7.7"
  }
 },
 "nbformat": 4,
 "nbformat_minor": 4
}
